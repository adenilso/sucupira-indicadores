{
  "nbformat": 4,
  "nbformat_minor": 0,
  "metadata": {
    "colab": {
      "name": "(Working) Sucupira - Indicadores - Quadrienal - 2017/2020",
      "provenance": [],
      "include_colab_link": true
    },
    "kernelspec": {
      "name": "python3",
      "display_name": "Python 3"
    },
    "language_info": {
      "name": "python"
    }
  },
  "cells": [
    {
      "cell_type": "markdown",
      "metadata": {
        "id": "view-in-github",
        "colab_type": "text"
      },
      "source": [
        "<a href=\"https://colab.research.google.com/github/adenilso/sucupira-indicadores/blob/master/(Working)_Sucupira_Indicadores_Quadrienal_2017_2020.ipynb\" target=\"_parent\"><img src=\"https://colab.research.google.com/assets/colab-badge.svg\" alt=\"Open In Colab\"/></a>"
      ]
    },
    {
      "cell_type": "code",
      "execution_count": null,
      "metadata": {
        "id": "MYQt6_bCu9DC",
        "colab": {
          "base_uri": "https://localhost:8080/"
        },
        "outputId": "feceb594-6317-4082-ccc3-df3428a72bb6"
      },
      "outputs": [
        {
          "output_type": "stream",
          "name": "stdout",
          "text": [
            "Drive already mounted at /content/drive; to attempt to forcibly remount, call drive.mount(\"/content/drive\", force_remount=True).\n"
          ]
        }
      ],
      "source": [
        "from google.colab import files\n",
        "from google.colab import drive\n",
        "drive.mount('/content/drive')\n",
        "import pandas as pd\n",
        "import io\n",
        "from plotnine import *"
      ]
    },
    {
      "cell_type": "code",
      "source": [
        "path = '/content/drive/My Drive/CAPES2018-2021/Quadrienal 2017-2020/Indicadores/'\n",
        "sheetnames = ['Sumário']\n",
        "sheets = dict([[sn, pd.read_csv(path + 'CC-' + sn + '.csv')] for sn in sheetnames])\n",
        "sumario = sheets['Sumário']"
      ],
      "metadata": {
        "id": "IKIjEWjowEzv"
      },
      "execution_count": null,
      "outputs": []
    },
    {
      "cell_type": "code",
      "source": [
        "# estratos depende do sufixo - sem sufixo, primeiro A1 (periódicos), .1 (conferências) ...\n",
        "estratosbase = [\"B4\", \"B3\", \"B2\", \"B1\", \"A4\", \"A3\", \"A2\", \"A1\"]\n",
        "sufixo = \".1\"\n",
        "pesosbase = dict({\"B4\": 0.05,\n",
        "               \"B3\": 0.10,\n",
        "               \"B2\": 0.20,\n",
        "               \"B1\": 0.50,\n",
        "               \"A4\": 0.625,\n",
        "               \"A3\": 0.75, \n",
        "               \"A2\": 0.875,\n",
        "               \"A1\": 1.0\n",
        "              })\n",
        "estratos = [e + sufixo for e in estratosbase]\n",
        "pesos = dict([[e + sufixo, pesosbase[e]] for e in estratosbase])"
      ],
      "metadata": {
        "id": "l961iPgbxokq"
      },
      "execution_count": null,
      "outputs": []
    },
    {
      "cell_type": "code",
      "source": [
        "sumario_acad = sumario[pd.notnull(sumario['Nome'])]\n",
        "sumario_acad = sumario_acad[sumario_acad[\"Modalidade\"] == \"ACADEMICO\"]"
      ],
      "metadata": {
        "id": "erfwFoiXyuNQ"
      },
      "execution_count": null,
      "outputs": []
    },
    {
      "cell_type": "code",
      "source": [
        "qualis_per = pd.melt(sumario_acad, id_vars=[\"Sigla\", \"Média Docentes\"], value_vars=estratos, var_name=\"Estrato\", value_name=\"Qte\")\n",
        "qualis_per = qualis_per[pd.notnull(qualis_per[\"Sigla\"])]\n",
        "qualis_per = qualis_per[qualis_per[\"Estrato\"].isin(estratos)]\n",
        "Estrato_cat = pd.Categorical(qualis_per[\"Estrato\"], categories=estratos)\n",
        "qualis_per = qualis_per.assign(Estrato = Estrato_cat)\n",
        "ponderamento = lambda e: e[\"Qte\"] * pesos[e[\"Estrato\"]] / e[\"Média Docentes\"] /\n",
        "qualis_per = qualis_per.assign(QtePeso = qualis_per.apply(ponderamento, axis=1))"
      ],
      "metadata": {
        "id": "7po6WAy0ywSW",
        "colab": {
          "base_uri": "https://localhost:8080/",
          "height": 133
        },
        "outputId": "ed49e1de-58fe-4558-fc57-695d2ce19fab"
      },
      "execution_count": null,
      "outputs": [
        {
          "output_type": "error",
          "ename": "SyntaxError",
          "evalue": "ignored",
          "traceback": [
            "\u001b[0;36m  File \u001b[0;32m\"<ipython-input-68-d72810d7c6a0>\"\u001b[0;36m, line \u001b[0;32m6\u001b[0m\n\u001b[0;31m    ponderamento = lambda e: e[\"Qte\"] * pesos[e[\"Estrato\"]] / e[\"Média Docentes\"] /\u001b[0m\n\u001b[0m                                                                                   ^\u001b[0m\n\u001b[0;31mSyntaxError\u001b[0m\u001b[0;31m:\u001b[0m invalid syntax\n"
          ]
        }
      ]
    },
    {
      "cell_type": "code",
      "source": [
        "order = qualis_per[[\"Sigla\", \"QtePeso\"]].groupby(by=\"Sigla\")[\"QtePeso\"].sum().sort_values().keys().tolist()\n",
        "order.reverse()"
      ],
      "metadata": {
        "id": "l5kqMZOyhhRJ"
      },
      "execution_count": null,
      "outputs": []
    },
    {
      "cell_type": "code",
      "source": [
        "Sigla_cat = pd.Categorical(qualis_per[\"Sigla\"], categories=order)\n",
        "qualis_per = qualis_per.assign(Sigla_cat = Sigla_cat)"
      ],
      "metadata": {
        "id": "rT_RpBQiy2Zf"
      },
      "execution_count": null,
      "outputs": []
    },
    {
      "cell_type": "code",
      "source": [
        "(\n",
        "    ggplot(qualis_per)\n",
        "    + aes(x=\"Sigla_cat\", y=\"QtePeso\", fill=\"Estrato\")\n",
        "    + geom_bar(stat=\"identity\", alpha=1, position=position_stack())\n",
        "    + theme(axis_text_x=element_text(angle=90, size=5))\n",
        "    + theme(figure_size=(12.0, 12.0))\n",
        "    + labs(x=\"Programas\", y=\"Quantidade\", legend=\"Estratos\")\n",
        "    + ggtitle(\"Publicações Qualis (\"+sufixo+\") Ponderado!\")\n",
        ")"
      ],
      "metadata": {
        "id": "HcoOHXQIy302"
      },
      "execution_count": null,
      "outputs": []
    },
    {
      "cell_type": "code",
      "source": [
        "def plotPublicacaoQualis(sufixo = \"\", titulo=\"Qualis Per\", ponderamento = lambda e: e[\"Qte\"] * pesos[e[\"Estrato\"]] / e['Média Docentes']):\n",
        "  estratosbase = [\"B4\", \"B3\", \"B2\", \"B1\", \"A4\", \"A3\", \"A2\", \"A1\"]\n",
        "  sufixo = \"\"\n",
        "  pesosbase = dict({\"B4\": 0.05,\n",
        "               \"B3\": 0.10,\n",
        "               \"B2\": 0.20,\n",
        "               \"B1\": 0.50,\n",
        "               \"A4\": 0.625,\n",
        "               \"A3\": 0.75, \n",
        "               \"A2\": 0.875,\n",
        "               \"A1\": 1.0\n",
        "              })\n",
        "  estratos = [e + sufixo for e in estratosbase]\n",
        "  pesos = dict([[e + sufixo, pesosbase[e]] for e in estratosbase])\n",
        "  sumario_acad = sumario[pd.notnull(sumario['Nome'])]\n",
        "  sumario_acad = sumario_acad[sumario_acad[\"Modalidade\"] == \"ACADEMICO\"]\n",
        "  qualis_per = pd.melt(sumario_acad, id_vars=[\"Sigla\", \"Média Docentes\"], value_vars=estratos, var_name=\"Estrato\", value_name=\"Qte\")\n",
        "  qualis_per = qualis_per[pd.notnull(qualis_per[\"Sigla\"])]\n",
        "  qualis_per = qualis_per[qualis_per[\"Estrato\"].isin(estratos)]\n",
        "  Estrato_cat = pd.Categorical(qualis_per[\"Estrato\"], categories=estratos)\n",
        "  qualis_per = qualis_per.assign(Estrato = Estrato_cat)\n",
        "  #ponderamento = lambda e: e[\"Qte\"] * pesos[e[\"Estrato\"]] / e['Média Docentes']\n",
        "  qualis_per = qualis_per.assign(QtePeso = qualis_per.apply(ponderamento, axis=1))\n",
        "  order = qualis_per[[\"Sigla\", \"QtePeso\"]].groupby(by=\"Sigla\")[\"QtePeso\"].sum().sort_values().keys().tolist()\n",
        "  order.reverse()\n",
        "  Sigla_cat = pd.Categorical(qualis_per[\"Sigla\"], categories=order)\n",
        "  qualis_per = qualis_per.assign(Sigla_cat = Sigla_cat)\n",
        "  gg = (\n",
        "    ggplot(qualis_per)\n",
        "    + aes(x=\"Sigla_cat\", y=\"QtePeso\", fill=\"Estrato\")\n",
        "    + geom_bar(stat=\"identity\", alpha=1, position=position_stack())\n",
        "    + theme(axis_text_x=element_text(angle=90, size=5))\n",
        "    + theme(figure_size=(10.0, 10.0))\n",
        "    + labs(x=\"Programas\", y=\"Quantidade\", legend=\"Estratos\")\n",
        "    + ggtitle(titulo)\n",
        "  )\n",
        "  return gg"
      ],
      "metadata": {
        "id": "FiQB0_u_y5VE"
      },
      "execution_count": null,
      "outputs": []
    },
    {
      "cell_type": "code",
      "source": [
        "#plotPublicacaoQualis(\"\", \"Periódicos\", lambda e: e[\"Qte\"] * pesos[e[\"Estrato\"]] / e['Média Docentes'])\n",
        "plotPublicacaoQualis(\"\", \"Periódicos\", lambda e: e[\"Qte\"] * pesos[e[\"Estrato\"]])"
      ],
      "metadata": {
        "id": "uyUJJ_gzKmu4"
      },
      "execution_count": null,
      "outputs": []
    },
    {
      "cell_type": "code",
      "source": [
        ""
      ],
      "metadata": {
        "id": "cAssqpr2KrXe"
      },
      "execution_count": null,
      "outputs": []
    }
  ]
}